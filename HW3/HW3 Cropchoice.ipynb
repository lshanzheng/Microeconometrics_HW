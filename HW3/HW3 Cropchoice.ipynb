{
 "cells": [
  {
   "cell_type": "code",
   "execution_count": 1,
   "metadata": {},
   "outputs": [
    {
     "name": "stderr",
     "output_type": "stream",
     "text": [
      "C:\\Anaconda3\\lib\\site-packages\\statsmodels\\compat\\pandas.py:56: FutureWarning: The pandas.core.datetools module is deprecated and will be removed in a future version. Please use the pandas.tseries module instead.\n",
      "  from pandas.core import datetools\n"
     ]
    }
   ],
   "source": [
    "import numpy as np\n",
    "import pandas as pd\n",
    "import statsmodels.api as sm\n",
    "import statsmodels\n",
    "from sklearn import linear_model"
   ]
  },
  {
   "cell_type": "code",
   "execution_count": 2,
   "metadata": {},
   "outputs": [
    {
     "name": "stdout",
     "output_type": "stream",
     "text": [
      "   temperature    rainfall  fields  noncrop  corn  wheat  rice\n",
      "0    13.184750   75.266659      63        8    31     17     7\n",
      "1    12.356800  102.375723     165        7   100     30    28\n",
      "2    17.578825  101.613629      38        1    26      3     8\n",
      "3    20.868671   64.357876     152       45    78     12    17\n",
      "4    13.880837  107.541005      88        4    54     15    15\n"
     ]
    }
   ],
   "source": [
    "file = pd.read_csv(\"cropchoice.txt\")\n",
    "print(file.head())"
   ]
  },
  {
   "cell_type": "code",
   "execution_count": 11,
   "metadata": {},
   "outputs": [],
   "source": [
    "crops = np.array(file.iloc[:,3:7])\n",
    "temperature = np.array(file['temperature']).reshape(-1,1)\n",
    "rainfall = np.array(file['rainfall']).reshape(-1,1)\n",
    "fields = np.array(file['fields']).reshape(-1,1)"
   ]
  },
  {
   "cell_type": "markdown",
   "metadata": {},
   "source": [
    "# Linear Regression with target transform"
   ]
  },
  {
   "cell_type": "code",
   "execution_count": 12,
   "metadata": {
    "collapsed": true
   },
   "outputs": [],
   "source": [
    "p = crops/fields\n",
    "eps = 1e-4\n",
    "p[p==0] = p[p==0] + eps "
   ]
  },
  {
   "cell_type": "code",
   "execution_count": 13,
   "metadata": {
    "collapsed": true
   },
   "outputs": [],
   "source": [
    "x_train = np.concatenate([temperature,rainfall],axis=1)\n",
    "x_ = sm.add_constant(x_train)\n",
    "label = np.argmax(p,axis=1)  #根据概率值设定标签，分别对应0,1,2,3，\n",
    "z_corn = np.log(p[:,1])-np.log(p[:,0])"
   ]
  },
  {
   "cell_type": "code",
   "execution_count": 15,
   "metadata": {},
   "outputs": [
    {
     "name": "stdout",
     "output_type": "stream",
     "text": [
      "                            OLS Regression Results                            \n",
      "==============================================================================\n",
      "Dep. Variable:                      y   R-squared:                       0.636\n",
      "Model:                            OLS   Adj. R-squared:                  0.636\n",
      "Method:                 Least Squares   F-statistic:                     2743.\n",
      "Date:                Sun, 14 Apr 2019   Prob (F-statistic):               0.00\n",
      "Time:                        16:30:43   Log-Likelihood:                -3601.9\n",
      "No. Observations:                3144   AIC:                             7210.\n",
      "Df Residuals:                    3141   BIC:                             7228.\n",
      "Df Model:                           2                                         \n",
      "Covariance Type:            nonrobust                                         \n",
      "==============================================================================\n",
      "                 coef    std err          t      P>|t|      [0.025      0.975]\n",
      "------------------------------------------------------------------------------\n",
      "const          0.6438      0.063     10.296      0.000       0.521       0.766\n",
      "x1            -0.1408      0.004    -37.888      0.000      -0.148      -0.134\n",
      "x2             0.0427      0.001     72.329      0.000       0.042       0.044\n",
      "==============================================================================\n",
      "Omnibus:                     3616.491   Durbin-Watson:                   1.975\n",
      "Prob(Omnibus):                  0.000   Jarque-Bera (JB):           318055.363\n",
      "Skew:                           6.033   Prob(JB):                         0.00\n",
      "Kurtosis:                      50.773   Cond. No.                         357.\n",
      "==============================================================================\n",
      "\n",
      "Warnings:\n",
      "[1] Standard Errors assume that the covariance matrix of the errors is correctly specified.\n"
     ]
    }
   ],
   "source": [
    "clf_corn = sm.OLS(z_corn,x_).fit()\n",
    "print(clf_corn.summary())"
   ]
  },
  {
   "cell_type": "code",
   "execution_count": 16,
   "metadata": {},
   "outputs": [
    {
     "name": "stdout",
     "output_type": "stream",
     "text": [
      "                            OLS Regression Results                            \n",
      "==============================================================================\n",
      "Dep. Variable:                      y   R-squared:                       0.599\n",
      "Model:                            OLS   Adj. R-squared:                  0.598\n",
      "Method:                 Least Squares   F-statistic:                     2343.\n",
      "Date:                Sun, 14 Apr 2019   Prob (F-statistic):               0.00\n",
      "Time:                        16:32:14   Log-Likelihood:                -4181.2\n",
      "No. Observations:                3144   AIC:                             8368.\n",
      "Df Residuals:                    3141   BIC:                             8387.\n",
      "Df Model:                           2                                         \n",
      "Covariance Type:            nonrobust                                         \n",
      "==============================================================================\n",
      "                 coef    std err          t      P>|t|      [0.025      0.975]\n",
      "------------------------------------------------------------------------------\n",
      "const          2.8563      0.075     37.991      0.000       2.709       3.004\n",
      "x1            -0.2894      0.004    -64.784      0.000      -0.298      -0.281\n",
      "x2             0.0293      0.001     41.342      0.000       0.028       0.031\n",
      "==============================================================================\n",
      "Omnibus:                     1101.140   Durbin-Watson:                   2.041\n",
      "Prob(Omnibus):                  0.000   Jarque-Bera (JB):           156444.237\n",
      "Skew:                           0.568   Prob(JB):                         0.00\n",
      "Kurtosis:                      37.539   Cond. No.                         357.\n",
      "==============================================================================\n",
      "\n",
      "Warnings:\n",
      "[1] Standard Errors assume that the covariance matrix of the errors is correctly specified.\n"
     ]
    }
   ],
   "source": [
    "z_wheat = np.log(p[:,2])-np.log(p[:,0])\n",
    "clf_wheat = sm.OLS(z_wheat,x_).fit()\n",
    "print(clf_wheat.summary())"
   ]
  },
  {
   "cell_type": "code",
   "execution_count": 17,
   "metadata": {},
   "outputs": [
    {
     "name": "stdout",
     "output_type": "stream",
     "text": [
      "                            OLS Regression Results                            \n",
      "==============================================================================\n",
      "Dep. Variable:                      y   R-squared:                       0.673\n",
      "Model:                            OLS   Adj. R-squared:                  0.672\n",
      "Method:                 Least Squares   F-statistic:                     3225.\n",
      "Date:                Sun, 14 Apr 2019   Prob (F-statistic):               0.00\n",
      "Time:                        16:33:46   Log-Likelihood:                -4355.0\n",
      "No. Observations:                3144   AIC:                             8716.\n",
      "Df Residuals:                    3141   BIC:                             8734.\n",
      "Df Model:                           2                                         \n",
      "Covariance Type:            nonrobust                                         \n",
      "==============================================================================\n",
      "                 coef    std err          t      P>|t|      [0.025      0.975]\n",
      "------------------------------------------------------------------------------\n",
      "const         -3.6872      0.079    -46.407      0.000      -3.843      -3.531\n",
      "x1            -0.0262      0.005     -5.555      0.000      -0.035      -0.017\n",
      "x2             0.0583      0.001     77.807      0.000       0.057       0.060\n",
      "==============================================================================\n",
      "Omnibus:                     1049.696   Durbin-Watson:                   1.986\n",
      "Prob(Omnibus):                  0.000   Jarque-Bera (JB):           107658.194\n",
      "Skew:                           0.582   Prob(JB):                         0.00\n",
      "Kurtosis:                      31.644   Cond. No.                         357.\n",
      "==============================================================================\n",
      "\n",
      "Warnings:\n",
      "[1] Standard Errors assume that the covariance matrix of the errors is correctly specified.\n"
     ]
    }
   ],
   "source": [
    "z_rice = np.log(p[:,3])-np.log(p[:,0])\n",
    "clf_rice = sm.OLS(z_rice,x_).fit()\n",
    "print(clf_rice.summary())"
   ]
  },
  {
   "cell_type": "code",
   "execution_count": null,
   "metadata": {
    "collapsed": true
   },
   "outputs": [],
   "source": []
  },
  {
   "cell_type": "code",
   "execution_count": null,
   "metadata": {
    "collapsed": true
   },
   "outputs": [],
   "source": []
  },
  {
   "cell_type": "code",
   "execution_count": null,
   "metadata": {},
   "outputs": [],
   "source": []
  },
  {
   "cell_type": "code",
   "execution_count": null,
   "metadata": {
    "collapsed": true
   },
   "outputs": [],
   "source": []
  }
 ],
 "metadata": {
  "kernelspec": {
   "display_name": "Python 3",
   "language": "python",
   "name": "python3"
  },
  "language_info": {
   "codemirror_mode": {
    "name": "ipython",
    "version": 3
   },
   "file_extension": ".py",
   "mimetype": "text/x-python",
   "name": "python",
   "nbconvert_exporter": "python",
   "pygments_lexer": "ipython3",
   "version": "3.6.2"
  }
 },
 "nbformat": 4,
 "nbformat_minor": 2
}
