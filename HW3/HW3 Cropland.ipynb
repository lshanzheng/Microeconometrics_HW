{
 "cells": [
  {
   "cell_type": "code",
   "execution_count": 8,
   "metadata": {},
   "outputs": [],
   "source": [
    "import numpy as np   #一个python数学计算库\n",
    "import pandas as pd  #处理图像表格的库\n",
    "import statsmodels.api as sm # python计量经济学的一个库吧，统计也会用\n",
    "import matplotlib.pyplot as plt\n",
    "from sklearn import linear_model   #python的一个机器学习库"
   ]
  },
  {
   "cell_type": "code",
   "execution_count": 2,
   "metadata": {},
   "outputs": [
    {
     "name": "stdout",
     "output_type": "stream",
     "text": [
      "   temperature  fields  cultivated  percentCultivated\n",
      "0    13.184750      63          49           0.777778\n",
      "1    12.356800     165         147           0.890909\n",
      "2    17.578825      38          30           0.789474\n",
      "3    20.868671     152          95           0.625000\n",
      "4    13.880837      88          69           0.784091\n"
     ]
    }
   ],
   "source": [
    "file=pd.read_csv(\"cropland.txt\")\n",
    "print(file.head())"
   ]
  },
  {
   "cell_type": "markdown",
   "metadata": {},
   "source": [
    "# Linear Regression"
   ]
  },
  {
   "cell_type": "code",
   "execution_count": 4,
   "metadata": {},
   "outputs": [
    {
     "name": "stdout",
     "output_type": "stream",
     "text": [
      "                            OLS Regression Results                            \n",
      "==============================================================================\n",
      "Dep. Variable:                      y   R-squared:                       0.867\n",
      "Model:                            OLS   Adj. R-squared:                  0.867\n",
      "Method:                 Least Squares   F-statistic:                 2.051e+04\n",
      "Date:                Sun, 14 Apr 2019   Prob (F-statistic):               0.00\n",
      "Time:                        11:45:55   Log-Likelihood:                 4929.3\n",
      "No. Observations:                3144   AIC:                            -9855.\n",
      "Df Residuals:                    3142   BIC:                            -9843.\n",
      "Df Model:                           1                                         \n",
      "Covariance Type:            nonrobust                                         \n",
      "==============================================================================\n",
      "                 coef    std err          t      P>|t|      [0.025      0.975]\n",
      "------------------------------------------------------------------------------\n",
      "x1            -0.0335      0.000   -143.230      0.000      -0.034      -0.033\n",
      "const          1.2884      0.004    336.046      0.000       1.281       1.296\n",
      "==============================================================================\n",
      "Omnibus:                      309.581   Durbin-Watson:                   1.982\n",
      "Prob(Omnibus):                  0.000   Jarque-Bera (JB):             1214.139\n",
      "Skew:                          -0.428   Prob(JB):                    2.25e-264\n",
      "Kurtosis:                       5.922   Cond. No.                         70.1\n",
      "==============================================================================\n",
      "\n",
      "Warnings:\n",
      "[1] Standard Errors assume that the covariance matrix of the errors is correctly specified.\n"
     ]
    }
   ],
   "source": [
    "temperature = np.array(file['temperature']).reshape(-1,1)\n",
    "temperature_ = sm.add_constant(temperature, prepend=False)\n",
    "fields = np.array(file['fields']).reshape(-1,1)\n",
    "cultivated = np.array(file['cultivated']).reshape(-1,1)\n",
    "percentCultivated = np.array(file['percentCultivated']).reshape(-1,1)\n",
    "lsfit = sm.OLS(percentCultivated,temperature_).fit()\n",
    "print(lsfit.summary())"
   ]
  },
  {
   "cell_type": "markdown",
   "metadata": {},
   "source": [
    "# Linear Regression with target transform"
   ]
  },
  {
   "cell_type": "code",
   "execution_count": 6,
   "metadata": {},
   "outputs": [
    {
     "name": "stdout",
     "output_type": "stream",
     "text": [
      "                            OLS Regression Results                            \n",
      "==============================================================================\n",
      "Dep. Variable:                      y   R-squared:                       0.651\n",
      "Model:                            OLS   Adj. R-squared:                  0.651\n",
      "Method:                 Least Squares   F-statistic:                     5873.\n",
      "Date:                Sun, 14 Apr 2019   Prob (F-statistic):               0.00\n",
      "Time:                        11:47:03   Log-Likelihood:                -2675.4\n",
      "No. Observations:                3144   AIC:                             5355.\n",
      "Df Residuals:                    3142   BIC:                             5367.\n",
      "Df Model:                           1                                         \n",
      "Covariance Type:            nonrobust                                         \n",
      "==============================================================================\n",
      "                 coef    std err          t      P>|t|      [0.025      0.975]\n",
      "------------------------------------------------------------------------------\n",
      "x1            -0.2013      0.003    -76.632      0.000      -0.206      -0.196\n",
      "const          4.5086      0.043    104.695      0.000       4.424       4.593\n",
      "==============================================================================\n",
      "Omnibus:                     4756.371   Durbin-Watson:                   2.022\n",
      "Prob(Omnibus):                  0.000   Jarque-Bera (JB):          1790467.021\n",
      "Skew:                           9.370   Prob(JB):                         0.00\n",
      "Kurtosis:                     118.397   Cond. No.                         70.1\n",
      "==============================================================================\n",
      "\n",
      "Warnings:\n",
      "[1] Standard Errors assume that the covariance matrix of the errors is correctly specified.\n"
     ]
    }
   ],
   "source": [
    "p = percentCultivated\n",
    "eps = 1e-4\n",
    "p[p==1]=p[p==1]-eps\n",
    "z = np.log(p/(1-p))\n",
    "lsfit2 = sm.OLS(z,temperature_).fit()\n",
    "print(lsfit2.summary())"
   ]
  },
  {
   "cell_type": "markdown",
   "metadata": {},
   "source": [
    "# Logistic Regression"
   ]
  },
  {
   "cell_type": "code",
   "execution_count": 7,
   "metadata": {},
   "outputs": [
    {
     "name": "stdout",
     "output_type": "stream",
     "text": [
      "                 Generalized Linear Model Regression Results                  \n",
      "==============================================================================\n",
      "Dep. Variable:           ['y1', 'y2']   No. Observations:                 3144\n",
      "Model:                            GLM   Df Residuals:                     3142\n",
      "Model Family:                Binomial   Df Model:                            1\n",
      "Link Function:                  logit   Scale:                             1.0\n",
      "Method:                          IRLS   Log-Likelihood:                -9051.0\n",
      "Date:                Sun, 14 Apr 2019   Deviance:                       3216.7\n",
      "Time:                        11:49:53   Pearson chi2:                     37.6\n",
      "No. Iterations:                     5                                         \n",
      "==============================================================================\n",
      "                 coef    std err          z      P>|z|      [0.025      0.975]\n",
      "------------------------------------------------------------------------------\n",
      "x1            -0.1892      0.001   -191.145      0.000      -0.191      -0.187\n",
      "const          4.2670      0.017    245.340      0.000       4.233       4.301\n",
      "==============================================================================\n"
     ]
    }
   ],
   "source": [
    "x_temp = np.concatenate([cultivated,fields - cultivated], axis=1)\n",
    "temperature_ = sm.add_constant(temperature, prepend=False)  # R的版本自动增加了常数项，所以结果不一样，这里也加上\n",
    "logitfit = sm.GLM(x_temp,temperature_,family=sm.families.Binomial()).fit()\n",
    "print(logitfit.summary())"
   ]
  },
  {
   "cell_type": "code",
   "execution_count": 9,
   "metadata": {
    "collapsed": true
   },
   "outputs": [],
   "source": [
    "mintemp = -5\n",
    "maxtemp = 40\n",
    "X = np.arange(mintemp,maxtemp,1).reshape(-1,1)\n",
    "X_ = sm.add_constant(X, prepend=False)  # 加上常数项，值为1\n",
    "logitpred = logitfit.predict(X_)\n",
    "lspred = lsfit.predict(X_)\n",
    "zpred = lsfit2.predict(X_)\n",
    "lspred2 = np.exp(zpred)/(1+np.exp(zpred))"
   ]
  },
  {
   "cell_type": "markdown",
   "metadata": {},
   "source": [
    "# Plot"
   ]
  },
  {
   "cell_type": "code",
   "execution_count": 11,
   "metadata": {},
   "outputs": [
    {
     "data": {
      "image/png": "[encoded data removed]",
      "text/plain": [
       "<matplotlib.figure.Figure at 0x2168d7ddc18>"
      ]
     },
     "metadata": {},
     "output_type": "display_data"
    }
   ],
   "source": [
    "x = temperature.reshape(-1)\n",
    "y = percentCultivated.reshape(-1)\n",
    "plt.plot(x,y,'.b')\n",
    "plot1, = plt.plot(X.reshape(-1),logitpred.reshape(-1),'-y')\n",
    "plot2, = plt.plot(X.reshape(-1),lspred.reshape(-1),'-r')\n",
    "plot3, = plt.plot(X.reshape(-1),lspred2.reshape(-1),'-g')\n",
    "plt.title('')\n",
    "plt.xlabel('temperature')\n",
    "plt.ylabel('percentCultivated')\n",
    "plt.xlim(mintemp,maxtemp)\n",
    "plt.ylim(-0.2,1.5)\n",
    "plt.hlines(0, mintemp, maxtemp,colors = \"k\", linestyles = \"dashed\")\n",
    "plt.hlines(1, mintemp, maxtemp,colors = \"k\", linestyles = \"dashed\")\n",
    "plt.legend(handles=[plot1,plot2,plot3],labels=['logistic fit','linear fit', 'linear fit with target transform'], loc='upper right')\n",
    "plt.show()"
   ]
  },
  {
   "cell_type": "code",
   "execution_count": null,
   "metadata": {
    "collapsed": true
   },
   "outputs": [],
   "source": []
  }
 ],
 "metadata": {
  "kernelspec": {
   "display_name": "Python 3",
   "language": "python",
   "name": "python3"
  },
  "language_info": {
   "codemirror_mode": {
    "name": "ipython",
    "version": 3
   },
   "file_extension": ".py",
   "mimetype": "text/x-python",
   "name": "python",
   "nbconvert_exporter": "python",
   "pygments_lexer": "ipython3",
   "version": "3.6.2"
  }
 },
 "nbformat": 4,
 "nbformat_minor": 2
}
